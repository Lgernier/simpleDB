{
 "cells": [
  {
   "cell_type": "code",
   "execution_count": null,
   "metadata": {},
   "outputs": [
    {
     "name": "stdout",
     "output_type": "stream",
     "text": [
      "9\n",
      "value does not exist\n",
      "None\n",
      "No active transaction to rollback\n"
     ]
    }
   ],
   "source": [
    "'''if you want to mess about with the class \n",
    "you can do it in this jupyter class just set the \n",
    "kernel to you local python or a python env'''\n",
    "\n",
    "from inMemoryDB import InMemoryDB\n",
    "DADB = InMemoryDB()\n",
    "\n",
    "DADB.begin_transaction()\n",
    "DADB.put(\"Dez\", 9)\n",
    "DADB.put(\"Cashews\", 10)\n",
    "DADB.commit()\n",
    "DADB.begin_transaction()\n",
    "DADB.put(\"Dez\", 21)\n",
    "print(DADB.get(\"Dez\"))\n",
    "\n",
    "DADB.commit()\n",
    "print(DADB.get(\"De\"))\n",
    "\n",
    "DADB.rollback()"
   ]
  }
 ],
 "metadata": {
  "kernelspec": {
   "display_name": "Python 3",
   "language": "python",
   "name": "python3"
  },
  "language_info": {
   "codemirror_mode": {
    "name": "ipython",
    "version": 3
   },
   "file_extension": ".py",
   "mimetype": "text/x-python",
   "name": "python",
   "nbconvert_exporter": "python",
   "pygments_lexer": "ipython3",
   "version": "3.13.0"
  }
 },
 "nbformat": 4,
 "nbformat_minor": 2
}
